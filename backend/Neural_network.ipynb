{
 "cells": [
  {
   "cell_type": "markdown",
   "metadata": {},
   "source": [
    "## Training a neural network to classify gender on NoRec dataset"
   ]
  },
  {
   "cell_type": "code",
   "execution_count": 1,
   "metadata": {},
   "outputs": [],
   "source": [
    "import tensorflow as tf\n",
    "from tensorflow import keras\n",
    "import numpy as np\n",
    "import nltk\n",
    "import tensorflow_datasets as tfds"
   ]
  },
  {
   "cell_type": "markdown",
   "metadata": {},
   "source": [
    "## Loading the dataset"
   ]
  },
  {
   "cell_type": "code",
   "execution_count": 2,
   "metadata": {},
   "outputs": [],
   "source": [
    "train_dir = 'corpus/data/train'\n",
    "dev_dir = 'corpus/data/dev'\n",
    "test_dir = 'corpus/data/test'\n",
    "\n",
    "batch_size = 32\n",
    "buffer_size = 10000\n",
    "seed = 42"
   ]
  },
  {
   "cell_type": "code",
   "execution_count": 3,
   "metadata": {},
   "outputs": [
    {
     "name": "stdout",
     "output_type": "stream",
     "text": [
      "Found 3397 files belonging to 2 classes.\n"
     ]
    }
   ],
   "source": [
    "raw_train_ds = keras.preprocessing.text_dataset_from_directory(\n",
    "    train_dir,\n",
    "    batch_size=batch_size,\n",
    "    seed=42)"
   ]
  },
  {
   "cell_type": "code",
   "execution_count": 4,
   "metadata": {},
   "outputs": [
    {
     "name": "stdout",
     "output_type": "stream",
     "text": [
      "Found 428 files belonging to 2 classes.\n",
      "Found 428 files belonging to 2 classes.\n"
     ]
    }
   ],
   "source": [
    "raw_dev_ds = keras.preprocessing.text_dataset_from_directory(\n",
    "    dev_dir,\n",
    "    batch_size=batch_size,\n",
    "    seed=42)\n",
    "\n",
    "raw_test_ds = keras.preprocessing.text_dataset_from_directory(\n",
    "    test_dir,\n",
    "    batch_size=batch_size,\n",
    "    seed=42)"
   ]
  },
  {
   "cell_type": "code",
   "execution_count": 5,
   "metadata": {
    "scrolled": true
   },
   "outputs": [
    {
     "name": "stdout",
     "output_type": "stream",
     "text": [
      "texts:  [b'Bokanmeldelse:Lars Joachim Grimstad: \\n\\xc2\\xabStatsminister Fahr & s\\xc3\\xb8nn. \\nEgoland\\xc2\\xbb \\n\\nEn barnebok med smart og underholdende politisk satire for nordmenn i alle aldre. \\n\\nN\\xc3\\xa5 er den tredje boken om statsminister Fahr & s\\xc3\\xb8nn her, og den er et herlig harselas med norsk selvgodhet og norsk politikk. \\n\\nTeddy Fahr kj\\xc3\\xb8rte taxi f\\xc3\\xb8r han dannet Merpartiet og ble valgt til statsminister. \\nHans filosofi er at nordmenn fortjener \\xc3\\xa5 kose seg og at penger er til for \\xc3\\xa5 brukes. \\nHan innf\\xc3\\xb8rer Teddy-timen \\xe2\\x80\\x93 en time ekstra i senga til alle, bygger vannsklie p\\xc3\\xa5 operabygget og omgj\\xc3\\xb8r Bislett stadion til en virtuell vikingpark. \\nHans higen etter popularitet gj\\xc3\\xb8r ham latterlig, men ogs\\xc3\\xa5 dypt menneskelig. \\nDen virkelige helten er s\\xc3\\xb8nnen hans, Finn. \\n\\nFinn er f\\xc3\\xb8lsom, intelligent, snill, beskjeden og pinglete \\xe2\\x80\\x93 egentlig en klassisk barnehelt. \\nSom i mange barneb\\xc3\\xb8ker, er det en detektivgjeng med barn som skj\\xc3\\xb8nner mer enn de voksne og ordner opp. \\n\\nDe to andre er hissigproppen Synniva og androiden Kimmelim. \\nSistnevnte blir man mer glad i enn man skulle trodd. \\nAller best liker jeg Finn n\\xc3\\xa5r han oppf\\xc3\\xb8rer seg som \\xc2\\xabseg selv\\xc2\\xbb, og ikke som en James Bond-figur, som er tilfellet i den sv\\xc3\\xa6rt dramatiske sluttscenen. \\n\\nMysteriet som barna m\\xc3\\xa5 l\\xc3\\xb8se er temmelig innfl\\xc3\\xb8kt, og involverer dramatiske hendelser og kjente personer. \\nDetektivgjengen m\\xc3\\xa5 lete i historiske fakta, og snakke med blant andre Kongen, Einar Gerhardsen og Jon Fosse for \\xc3\\xa5 l\\xc3\\xb8se g\\xc3\\xa5ten. \\nHer er det mange gjentakelser av detaljer, kanskje fordi forfatteren tenker at dette er en h\\xc3\\xb8ytlesningsbok og kapitlene ikke blir lest etter hverandre. \\nMin innvending er likevel at fortellingen burde v\\xc3\\xa6rt strammet opp og barna hatt en litt enklere floke \\xc3\\xa5 l\\xc3\\xb8se. \\n\\nMen: for fansen er mer tekst uansett bra. \\nOg det er lett \\xc3\\xa5 bli sjarmert av \\n\\nOM FORFATTEREN \\n\\npersongalleriet og humoren i Statsminister Fahr og s\\xc3\\xb8nn-serien. \\nHer det mange morsomme bilder, og en lett tone sniker seg inn overalt. \\nTeddy er korpulent, har hentesveis og minner litt om George Constanza i TV-serien \\xc2\\xabSeinfeld\\xc2\\xbb. \\nMed munnen full av kj\\xc3\\xb8ttkaker roper han ut i frustrasjon hvorfor det alltid er k\\xc3\\xb8 i butikken, det kl\\xc3\\xb8r p\\xc3\\xa5 ryggen og hvorfor buksene bare blir mindre og mindre. \\nEinar Gerhardsen g\\xc3\\xa5r p\\xc3\\xa5 et datakurs som heter \\xc2\\xabNye dingser for gamle blingser\\xc2\\xbb, og Kongen er glad i lese Donald-blader og se p\\xc3\\xa5 d\\xc3\\xa5rlige actionfilmer. \\nDet er mye tulling med \\xc3\\xb8vrighetspersoner, og jeg merker at jeg liker det. \\n\\nGrimstad har laget et univers som er passe frekt og passe koselig, toppet med en god porsjon humor og sjarm. \\nBravo! \\n\\nKRISTINE ISAKSEN \\n'\n",
      " b'John le Carr\\xc3\\xa9 viser hvem som er sjef i spionroman-bransjen\\nAvrunder forfatterskapet med ny, suveren fortelling. \\n\\nDe siste \\xc3\\xa5ra har John le Carr\\xc3\\xa9, som fyller 86 \\xc3\\xa5r om noen dager, v\\xc3\\xa6rt framme i lyset b\\xc3\\xa5de gjennom Adam Sismans \\xc2\\xabJohn Le Carr\\xc3\\xa9: The Biography\\xc2\\xbb (2015) og sin egen selvbiografiske \\xc2\\xabThe Pigeon Tunnel\\xc2\\xbb (2016). \\nMange har nok tenkt at disse tilbakeblikkene satte en strek for en str\\xc3\\xa5lende, 45 \\xc3\\xa5r lang forfatterkarriere. \\n\\nMen nei, i likhet med mange av sine hovedpersoner er David Cornwell, som han heter, en overraskelsens mann. \\nMed \\xc2\\xabSpionenes arv\\xc2\\xbb, samtidig ute p\\xc3\\xa5 engelsk og norsk, \\xc3\\xb8nsker han velkommen tilbake til det m\\xc3\\xb8rke og kalde universet han skildret i debutromanen \\xc2\\xabTelefon til avd\\xc3\\xb8de\\xc2\\xbb (1961) og mesterverket \\xc2\\xabSpionen som kom inn fra kulden\\xc2\\xbb (1963). \\n\\nInnkalt p\\xc3\\xa5 teppet \\n\\nRomanen kunne like gjerne hatt den tittelen Knut Hamsun brukte da han utga sin siste roman, \\xc2\\xabRingen sluttet\\xc2\\xbb (1936). \\nMed denne boka n\\xc3\\xb8ster Le Carr\\xc3\\xa9 opp l\\xc3\\xb8se tr\\xc3\\xa5der og skjulte hendelser fra sitt eget forfatterskap. \\n\\nHandlingen utl\\xc3\\xb8ses n\\xc3\\xa5r Peter Guillam, i sin tid George Smileys trofaste medarbeider, f\\xc3\\xa5r et brev der han blir bedt om \\xc3\\xa5 forlate sitt hjem i Bretagne og komme til London og m\\xc3\\xb8te opp i MI6s nye hovedkvarter. \\nDer f\\xc3\\xa5r han vite at barna til de to som d\\xc3\\xb8de ved Berlin-muren i \\xc2\\xabSpionen som kom inn fra kulden\\xc2\\xbb, Alec Leamas\\xe2\\x80\\x99 s\\xc3\\xb8nn og Elizabeth Golds datter, vurderer \\xc3\\xa5 g\\xc3\\xa5 til sak mot etterretningstjenesten og mot Peter Guillam. \\n\\nVelkjente navn \\n\\n\\xc2\\xabTjenesten\\xc2\\xbb og visse enkeltpersoner vil bli stilt til ansvar for foreldrenes d\\xc3\\xb8d og avkrevd et betydelig bel\\xc3\\xb8p som oppreisning. \\nGuillam blir bedt om \\xc3\\xa5 fortelle alt han husker om en operasjon kalt \\xc2\\xabVindfall\\xc2\\xbb. \\nDen viser seg \\xc3\\xa5 v\\xc3\\xa6re sterkt knyttet til de tragediene som videre utspilte seg. \\nSammen med folk som jobber for \\xc2\\xabTjenesten\\xc2\\xbb, som den kalles, g\\xc3\\xa5r s\\xc3\\xa5 Guillam igjennom det som fins av skriftlige rapporter fra det aktuelle tidsrommet. \\n\\nI historien som rulles opp, dukker en rekke velkjente navn for John Le Carr\\xc3\\xa9s lesere opp; George Smiley, Bill Haydon, Hans-Dieter Mundt, Fiedler, Percy Alleline, Toby Esterhase, foruten Alec Leamas og Liz Gold. \\nDessuten noen nye som tilh\\xc3\\xb8rer bokas hovedintrige, blant andre en kvinne som st\\xc3\\xa5r sterkt i Guillams minne. \\nHun har i sin tid bidratt til \\xc3\\xa5 skape en klassisk konflikt mellom n\\xc3\\xa5del\\xc3\\xb8s plikt og sterk lidenskap hos ham selv. \\n\\nLe Carr\\xc3\\xa9s fortellerkunst er som alltid fylt av eleganse, en forf\\xc3\\xb8rende, prosapoetisk og aforistisk stil \\xe2\\x80\\x93 et spr\\xc3\\xa5k som er til \\xc3\\xa5 nyte, setning for setning. \\nDenne romanen handler om den fortrengte menneskelighet som Guillam blir tvunget til \\xc3\\xa5 konfrontere seg selv med og som sakte bringes ut av sjelens og f\\xc3\\xb8lelsenes fryselager. \\n\\nEuropas m\\xc3\\xb8rke \\n\\nHistorien rulles opp dels via rapporter fra fortida, dels gjennom samtaler, dels gjennom Guillams kommentarer, som det er lesernes privilegium \\xc3\\xa5 f\\xc3\\xa5 ta del i. \\nSpenningen \\xc3\\xb8ker, det ene opptrinnet tar det andre, mens eksentriske menneskertyper dukker opp i kulissene. \\nTil slutt finner Guillam ogs\\xc3\\xa5 sin gamle sjef, George Smiley, og boka ender med at de to gamle vennene gransker sine motiver. \\n\\n\\xc2\\xabHvis jeg var hjertel\\xc3\\xb8s, var jeg hjertel\\xc3\\xb8s for Europa. \\nHvis jeg hadde et uoppn\\xc3\\xa5elig ideal, s\\xc3\\xa5 var det \\xc3\\xa5 f\\xc3\\xb8re Europa ut av m\\xc3\\xb8rket og inn i en ny opplyst tidsalder,\\xc2\\xbb sier Smiley. \\n\\xc2\\xabJeg har det enn\\xc3\\xa5.\\xc2\\xbb \\n'\n",
      " b'Bokanmeldelse:Karl Ove Knausg\\xc3\\xa5rd: \\n\\xc2\\xabOm vinteren\\xc2\\xbb \\n\\nBok to i Karl Ove Knausg\\xc3\\xa5rds \\xc2\\xab\\xc3\\xa5rstidssyklus\\xc2\\xbb er bedre enn den f\\xc3\\xb8rste. \\n\\nTekstene i \\xc2\\xabOm vinteren\\xc2\\xbb gir inntrykk av \\xc3\\xa5 v\\xc3\\xa6re lengre, roligere og mer utviklede enn i \\xc2\\xabOm h\\xc3\\xb8sten\\xc2\\xbb. \\nP\\xc3\\xa5 sitt beste er de som sm\\xc3\\xa5, fullendte noveller. \\n\\nDet er mindre av det slitsomt insisterende, selv om han ogs\\xc3\\xa5 i denne boken av og til n\\xc3\\xa6rmer seg det pomp\\xc3\\xb8se. \\n\\nDet som begynte som \\xc2\\xabbrev til en uf\\xc3\\xb8dt datter\\xc2\\xbb i forrige bok, g\\xc3\\xa5r i l\\xc3\\xb8pet av \\xc2\\xabOm vinteren\\xc2\\xbb over til \\xc3\\xa5 bli \\xc2\\xabbrev til en nyf\\xc3\\xb8dt datter\\xc2\\xbb. \\nOg i enda st\\xc3\\xb8rre grad enn sist, henvender Knausg\\xc3\\xa5rd seg n\\xc3\\xa5 direkte til denne datteren. \\n\\nDet er faktisk ganske gripende. \\nHan balanserer fint mellom gode \\xc3\\xb8nsker og sterke bekymringer, og b\\xc3\\xa5de den nyf\\xc3\\xb8dte og de eldre s\\xc3\\xb8sknene hennes har en viktig plass i boken. \\n\\nMen selv om flere av tekstene handler om barn og familieliv, er det fremdeles slik at det er fenomenene \\xe2\\x80\\x93 assosiasjonsrekkene som vekkes n\\xc3\\xa5r han studerer ting og natur rundt seg \\xe2\\x80\\x93 som f\\xc3\\xa5r mest oppmerksomhet. \\n\\nDet spenner fra vann til aper, fra gjester til kulde, fra stoler til julegaver, fra seksuelt begj\\xc3\\xa6r til q-tips, fra fisk til vinterlyder. \\nHan legger ogs\\xc3\\xa5 inn \\xc3\\xb8rsm\\xc3\\xa5 portretter av mennesker han kjenner, et av disse kalles bare J. men jeg har sterke mistanker om at det egentlig dreier seg om Jahn Teigen! \\n\\nI denne boken viser forfatteren i tillegg at han mestrer humor. \\nTeksten om julenisser er i hvert fall noe av det vittigste jeg har lest av denne mannen. \\n\\nNoen av tekstene har ogs\\xc3\\xa5 temaene sine hentet fra et tidligere opphold p\\xc3\\xa5 en \\xc3\\xb8de \\xc3\\xb8y, og slik f\\xc3\\xa5r vi flere innfallsvinkler til ett og samme landskap. \\n\\nKarl Ove Knausg\\xc3\\xa5rd fremst\\xc3\\xa5r i det hele tatt som minst like fascinert av naturen som av kulturen. \\n\\nP\\xc3\\xa5 sitt beste skriver han fremragende naturlyriske skildringer av dyr, fugler og landskap. \\nOg i samsvar med bokens tittel finner vi gjenkjennelige og stemningsskapende tekster om vinter, sn\\xc3\\xb8 og kulde. \\n\\nI disse tekstene griper Knausg\\xc3\\xa5rd tydelig tilbake til egne barndomsminner, og slik blir milj\\xc3\\xb8et og menneskene fra \"Min kamp\"-serien igjen vekket til live. \\nDet gjelder ikke minst faren, som ogs\\xc3\\xa5 n\\xc3\\xa5 skildres som en fjern, litt skremmende og mystisk karakter. \\n\\nKarl Ove Knausg\\xc3\\xa5rds vinter strekker seg fra og med desember til og med februar. \\nDet er med andre ord duket for en tidlig v\\xc3\\xa5r. \\nMen den f\\xc3\\xa5r vente til 2016. \\n']\n",
      "\n",
      "labels:  [0 1 1]\n"
     ]
    }
   ],
   "source": [
    "for example, label in raw_train_ds.take(1):\n",
    "    print('texts: ', example.numpy()[:3])\n",
    "    print()\n",
    "    print('labels: ', label.numpy()[:3])"
   ]
  },
  {
   "cell_type": "code",
   "execution_count": 6,
   "metadata": {},
   "outputs": [],
   "source": [
    "VOCAB_SIZE=1000\n",
    "encoder = keras.layers.experimental.preprocessing.TextVectorization(\n",
    "    max_tokens=VOCAB_SIZE)\n",
    "\n",
    "encoder.adapt(raw_train_ds.map(lambda text, label: text))"
   ]
  },
  {
   "cell_type": "code",
   "execution_count": 16,
   "metadata": {},
   "outputs": [
    {
     "data": {
      "text/plain": [
       "array(['', '[UNK]', 'og', 'i', 'er', 'som', 'en', 'det', 'av', 'på',\n",
       "       'til', 'å', 'med', 'for', 'den', 'om', 'har', 'et', 'at', 'han',\n",
       "       'de', 'ikke', 'men', 'seg', 'fra', 'hun', 'også', 'blir', 'så',\n",
       "       'kan', 'vi', 'denne', 'var', 'sin', 'dette', 'etter', 'jeg', 'der',\n",
       "       'eller', 'når', 'selv', 'mange', 'ut', 'mer', 'noe', 'boka', 'får',\n",
       "       'over', 'boken', 'her', 'opp', 'hans', 'andre', 'skal', '–', 'bok',\n",
       "       'alle', 'være', 'vil', 'år', 'inn', 'man', 'noen', 'både', 'ble',\n",
       "       'enn', 'bare', 'da', 'mot', 'mellom', 'ved', 'to', 'mye', 'roman',\n",
       "       'alt', 'forfatteren', 'helt', 'godt', 'gjør', 'ha', 'gjennom',\n",
       "       'litt', 'hva', 'romanen', 'nå', 'sine', 'må', 'går', 'du', 'liv',\n",
       "       'sitt', 'slik', 'dem', 'sider', 'bli', 'skriver', 'første',\n",
       "       'hadde', 'kommer', 'flere', 'hvordan', 'nok', 'få', 'store',\n",
       "       'hele', 'uten', 'hvor', 'kunne', 'under', 'før', 'oss', 'ham',\n",
       "       'livet', 'vært', 'sammen', 'nye', 'hennes', 'kanskje', 'mest',\n",
       "       'ingen', 'siste', 'historien', 'tar', 'norsk', 'blitt', 'leseren',\n",
       "       'norske', 'gang', 'ein', 'skrevet', 'historie', 'likevel', 'samme',\n",
       "       'tid', 'gir', 'står', 'kr', 'siden', 'igjen', 'henne', 'like',\n",
       "       'barn', 'god', 'disse', 'meg', 'egen', 'verden', 'aldri', 'annet',\n",
       "       'viser', 'samtidig', 'mens', 'forfatter', 'lese', 'tilbake',\n",
       "       'rundt', 'blant', 'stor', 'norge', 'fram', 'gamle', 'tre',\n",
       "       'mennesker', 'tidligere', 'handler', 'dei', 'sett', 'langt',\n",
       "       'beste', 'ny', 'først', 'hos', 'nesten', 'heller', 'bøker', 'dag',\n",
       "       'spennende', 'ser', 'ikkje', 'lite', 'fordi', 'del', 'ei', 'svært',\n",
       "       'forteller', 'skulle', 'hvert', 'skrive', 'ta', 'mann', 'møter',\n",
       "       'ofte', 'fått', 'ville', 'unge', 'måte', 'lett', 'si', 'vel',\n",
       "       'ganske', 'særlig', 'oversatt', 'fikk', 'gode', 'språk', 'ned',\n",
       "       'vet', 'minst', 'eit', 'deg', 'stort', 'ligger', 'deres', 'rett',\n",
       "       'handlingen', 'side', 'teksten', 'kom', 'fortellingen', 'vår',\n",
       "       'frem', 'ulike', 'finne', 'annen', 'språket', 'gjøre', 'jo', 'ord',\n",
       "       'finner', 'alltid', 'gjort', 'hvem', 'egentlig', 'hverandre',\n",
       "       'kjent', 'bedre', 'mor', 'se', 'far', 'forlag', 'gå', 'finnes',\n",
       "       'virker', 'leser', 'død', 'slags', 'hovedpersonen', 'forhold',\n",
       "       'tatt', 'folk', 'mindre', 'eksempel', 'hvorfor', 'slutten', 'vis',\n",
       "       'altså', 'sier', 'fortelling', 'følger', 'bak', 'stadig', 'faren',\n",
       "       'ting', 'lest', '«det', 'små', 'nytt', 'vanskelig', 'tiden',\n",
       "       'hver', 'skjer', 'kvinner', 'slutt', 'liten', '—', 'videre',\n",
       "       'viktig', 'litterære', 'rekke', 'begynner', 'plass', 'eget',\n",
       "       'kvinne', 'moren', 'enda', 'krigen', 'egne', 'krim', 'bokens',\n",
       "       'gjerne', 'ganger', 'gi', 'bøkene', 'eneste', 'la', 'interessant',\n",
       "       'land', 'eg', 'all', 'derfor', 'lange', 'kjærlighet', 'lever',\n",
       "       'lar', 'sted', 'komme', 'synes', 'menn', 'familien', 'ho',\n",
       "       'akkurat', 'fall', 'begge', 'aller', 'hvis', 'kjenner', 'full',\n",
       "       'lenge', 'ja', 'dermed', 'lesere', 'vei', 'allerede', 'ung',\n",
       "       'grunn', 'form', 'spesielt', 'politiske', 'mannen', 'fire',\n",
       "       'sterk', 'frå', 'fleste', 'virkelig', 'oslo', 'holder', 'klarer',\n",
       "       'tross', 'tro', 'snart', 'gammel', 'politisk', 'lille', 'hatt',\n",
       "       '«den', 'faktisk', 'største', 'forfatterens', 'skildrer', 'senere',\n",
       "       'mulig', 'funnet', 'usa', 'moderne', 'familie', 'bør', '«jeg',\n",
       "       'dikt', 'setter', 'lang', 'tillegg', 'minner', 'bilder', 'døde',\n",
       "       'nærmest', 'nettopp', 'satt', 'tror', 'større', 'bruker', 'navn',\n",
       "       'sitter', 'ute', 'selve', 'sagt', 'måtte', 'skaper', 'selvsagt',\n",
       "       'gjelder', 'ene', 'deler', 'vite', 'litteratur', 'par', 'heter',\n",
       "       'sterkt', 'stedet', 'gikk', 'fremst', 'tydelig', 'ellers',\n",
       "       'gangen', 'forstå', 'mener', 'dessuten', 'hjem', 'min',\n",
       "       'forfattere', '«en', 'historier', 'gjorde', 'tittelen', 'romaner',\n",
       "       'overraskende', 'fungerer', 'spørsmål', 'forholdet', 'menneske',\n",
       "       'sterke', 'legger', 'humor', 'burde', 'én', 'lagt', 'bra', 'veien',\n",
       "       'tenker', 'ett', 'årets', 'fremstår', 'klart', 'neste', 'bilde',\n",
       "       'slett', 'våre', 'landet', 'kort', 'fortalt', 'tok', 'enkelt', 'Å',\n",
       "       'tredje', 'leve', 'bor', 'cappelen', 'saken', 'veldig', 'litterær',\n",
       "       'holde', 'gyldendal', 'enkelte', 'tema', 'grep', 'best', 'barna',\n",
       "       'historiske', 'amerikanske', 'levende', 'bort', 'gitt', 'fortsatt',\n",
       "       'dukker', 'reise', 'grad', 'dårlig', 'vise', 'utenfor',\n",
       "       'tilsynelatende', 'verdens', 'sønn', 'slike', 'møte', 'voksne',\n",
       "       'trenger', 'menneskene', 'forrige', 'døden', 'datter', 'gått',\n",
       "       'bærer', 'tekst', 'tider', 'korte', 'forsøker', 's', 'meste',\n",
       "       'fører', 'ønsker', 'skrev', 'lenger', 'tidvis', 'anna', 'hjelp',\n",
       "       'altfor', 'personer', 'forlaget', 'sjanger', 'føler', 'skape',\n",
       "       'ender', 'direkte', 'litterært', 'indre', 'fem', 'tett', 'nemlig',\n",
       "       'preget', 'årene', 'vakre', 'politiet', 'fint', 'fortelle', 'drap',\n",
       "       'underholdende', 'spenning', 'snakker', 'alene', 'mørke',\n",
       "       'detaljer', 'svenske', 'lesning', 'viktigste', 'tenke', 'nær',\n",
       "       'aschehoug', 'forsøk', 'venner', 'drept', 'blikk', 'skjedde',\n",
       "       'sikkert', 'åpner', 'ti', 'stil', 'kommet', 'følge', 'beskriver',\n",
       "       'starter', '«de', 'steder', 'damm', 'eldre', 'byen', 'opplever',\n",
       "       'fullt', 'forfatterne', 'åpenbart', 'imponerende', 'troverdig',\n",
       "       'slår', 'resultatet', 'hjemme', 'bokas', 'kjente', 'person',\n",
       "       'ingenting', 'virkeligheten', 'serien', 'samfunnet', 'personlige',\n",
       "       'grundig', 'følelser', 'dør', 'bruke', 'personlig', 'liker',\n",
       "       'historiene', 'datteren', 'arbeid', 'riktig', 'plutselig',\n",
       "       'foreldre', 'fast', '349', 'språklig', 'samt', 'mangler', 'kone',\n",
       "       'les', 'dager', 'uansett', 'sånn', 'innsikt', 'helst', 'dagens',\n",
       "       'alvor', 'reiser', 'måter', 'hendelser', 'fortellinger', 'viktige',\n",
       "       'romanens', 'krig', 'ferd', 'faller', 'bind', 'vold', 'sjelden',\n",
       "       'lys', 'dramatiske', 'tvil', 'sidene', 'fascinerende', 'sette',\n",
       "       'prøver', 'feil', 'midt', 'høyt', 'seks', 'driver', 'dessverre',\n",
       "       'brev', 'underveis', 'tekstene', 'personene', 'interessante',\n",
       "       'oppleves', 'nokså', 'kaller', 'tyske', 'inntrykk', 'arne',\n",
       "       'tyskland', 'meget', 'penger', 'imidlertid', 'hovedperson',\n",
       "       'biografi', 'tom', 'inne', 'hus', 'tidlig', 'jente', 'glede',\n",
       "       'dels', 'vakker', 'thriller', 'født', 'evne', 'verdenskrig',\n",
       "       'utgitt', 'byr', 'utgangspunkt', 'lars', 'unna', 'tekster',\n",
       "       'skapt', 'poetisk', 'enten', 'betyr', 'verken', 'spiller',\n",
       "       'opptatt', 'historisk', 'erik', 'enkle', 'dramatisk', 'solid',\n",
       "       'måten', 'forsvinner', 'elegant', 'arbeidet', 'visste', 'styrke',\n",
       "       'norges', 'karakterene', 'hundre', 'trekker', 'sorg', 'rolle',\n",
       "       'løpet', 'forfattaren', 'tanker', 'legge', 'kvinnen', 'john',\n",
       "       'jan', 'hodet', 'forstår', 'europa', 'velskrevet', 'riktignok',\n",
       "       'overfor', 'mat', 'klassisk', 'borte', 'slikt', 'lykkes', 'knapt',\n",
       "       'verk', 'stoffet', 'skildringer', 'new', 'leses', 'jon', 'harry',\n",
       "       'derimot', 'bruk', 'sønnen', 'huset', 'snakke', 'rom', 'nærmere',\n",
       "       'kapittel', 'kampen', 'dypt', 'samfunn', 'lik', 'hører',\n",
       "       'befinner', 'vellykket', 'the', 'endelig', 'spor', 'sex', 'meir',\n",
       "       'laget', 'kamp', 'hånd', 'elsker', 'drømmer', 'omkring', 'fin',\n",
       "       'bakgrunn', 'spenningen', 'mening', 'inneholder', 'anmeldt',\n",
       "       'sverige', 'pris', 'kona', 'jobb', 'nei', 'millioner', 'knyttet',\n",
       "       'kjærligheten', 'brukt', 'fremdeles', 'ønske', 'virke', 'raskt',\n",
       "       'klar', 'journalist', 'foreldrene', 'fakta', 'består', 'sa',\n",
       "       'kunst', 'fine', 'sjølv', 'heldigvis', 'føles', 'skildres',\n",
       "       'prosjekt', 'knut', 'fortid', 'drar', 'stille', 'noveller',\n",
       "       'mykje', 'inntil', 'absolutt', 'ordet', 'morsom', 'bildene',\n",
       "       'ytre', 'via', 'sentrale', 'scener', 'kvinnene', 'kunnskap',\n",
       "       'fort', 'umulig', 'skjebne', 'havet', 'felles', 'annerledes',\n",
       "       'uttrykk', 'poetiske', 'knausgård', 'jakt', 'danske', 'valgt',\n",
       "       'utgangspunktet', 'lage', 'venn', 'svar', 'naturen', 'mål', 'lag',\n",
       "       'kalt', 'ekte', 'london', 'dreier', 'debut', 'by', 'treffer',\n",
       "       'sliter', 'vanlig', 'sist', 'omfattende', 'kraft', 'henger',\n",
       "       'foregår', 'problemer', 'innblikk', 'sies', 'ingrid', 'ifølge',\n",
       "       'holdt', 'handling', 'gutt', 'vidt', 'sto', 'snarere', 'skildret',\n",
       "       'sjangeren', 'oppvekst', 'håp', 'hvite', 'fortsetter', 'ekstra',\n",
       "       'dagen', 'vakkert', 'spørsmålet', 'olav', 'noko', 'neppe', 'jens',\n",
       "       'valg', 'temaer', 'klare', 'karakterer', 'vokser', 'thomas',\n",
       "       'politikk', 'of', 'kjenne', 'fjor', 'bygger', 'karriere', 'kalles',\n",
       "       'husker', 'fri', 'bildet', 'verdt', 'univers', 'jobben', 'anne',\n",
       "       '20', 'virkelighet', 'suksess', 'stå', 'sak', 'likhet', 'kontakt',\n",
       "       'enhver', 'året', 'talt', 'stemme', 'nesbø', 'kapitler', 'jobber',\n",
       "       'forskjellige', 'verste', 'varme', 'synd', 'skjønner', 'setninger',\n",
       "       'resten', 'novellene', 'leserne', 'jakten', 'interesse', 'høre',\n",
       "       'hvilken', 'ga', 'oversetter', 'oversettelse', 'nordmenn', 'hardt',\n",
       "       'glad', 'basert', 'svart', 'serie', 'samlingen', 'overkant',\n",
       "       'miljø', 'havner', 'fulle', 'forfatterskap', 'barndom', '«et',\n",
       "       'tittel', 'skjedd', 'refleksjoner', 'mystiske', 'mister', 'islam',\n",
       "       'høy', 'hovedpersonene', 'fokus', 'vårt', 'karl', 'fins', '2014',\n",
       "       'visst', 'makt', 'framstår', 'ennå', 'drama', 'diktene',\n",
       "       'skremmende', 'kun', 'karakter', 'f', 'veksler', 'trolig',\n",
       "       'skildre', 'oktober', 'lærer', 'internasjonale', 'imot',\n",
       "       'hemmeligheter', 'driv', 'beveger', 'betydning', 'velger',\n",
       "       'vanskelige', 'ungdom', 'sosiale', 'skolen', 'skildring', 'per',\n",
       "       'naturlig', 'kjedelig', 'hentet', 'foran', 'fant', 'drapet',\n",
       "       'bergen', '299', 'viss', 'stoff', 'overgrep', 'mitt', 'lyst',\n",
       "       'leder', 'krever', 'krevende', 'fortelleren', 'deretter', '2011',\n",
       "       'tida', 'skikkelig', 'sjarmerende', 'kalle', 'din', 'amerikansk',\n",
       "       'skildringene', 'sentralt', 'peter', 'mistet', 'jenter',\n",
       "       'innenfor', 'effektivt', 'åtte', 'vanlige', 'tegner',\n",
       "       'skildringen', 'referanser', 'problemet', 'plottet', 'opplevelser',\n",
       "       'lære', 'bror', 'utvikling', 'preg', 'portrett', 'mørk', 'bjørn',\n",
       "       'beskrivelser', 'begynte', 'stykke', 'robert', 'prosa', 'original',\n",
       "       'kjæreste', 'fysisk', 'enkel', 'bidrar', 'tak', 'spør',\n",
       "       'språklige', 'kapitlene', 'følelse', 'erfaringer', 'britiske',\n",
       "       'yngre', 'tilværelsen', 'svarte', 'skogen', 'innimellom', 'henrik',\n",
       "       'farens', 'ekteskap', 'barnet', '«i', 'venter', 'stiller'],\n",
       "      dtype='<U14')"
      ]
     },
     "execution_count": 16,
     "metadata": {},
     "output_type": "execute_result"
    }
   ],
   "source": [
    "vocab = np.array(encoder.get_vocabulary())\n",
    "vocab"
   ]
  },
  {
   "cell_type": "code",
   "execution_count": 25,
   "metadata": {},
   "outputs": [
    {
     "name": "stdout",
     "output_type": "stream",
     "text": [
      "Epoch 1/20\n",
      "107/107 [==============================] - 83s 777ms/step - loss: 0.6751 - accuracy: 0.4051 - val_loss: 0.7388 - val_accuracy: 0.5344\n",
      "Epoch 2/20\n",
      "107/107 [==============================] - 85s 791ms/step - loss: 0.6746 - accuracy: 0.4024 - val_loss: 0.7286 - val_accuracy: 0.5188\n",
      "Epoch 3/20\n",
      "107/107 [==============================] - 87s 813ms/step - loss: 0.6738 - accuracy: 0.4024 - val_loss: 0.7217 - val_accuracy: 0.5188\n",
      "Epoch 4/20\n",
      "107/107 [==============================] - 84s 785ms/step - loss: 0.6721 - accuracy: 0.4024 - val_loss: 0.7141 - val_accuracy: 0.5063\n",
      "Epoch 5/20\n",
      "107/107 [==============================] - 85s 793ms/step - loss: 0.6674 - accuracy: 0.4345 - val_loss: 0.7030 - val_accuracy: 0.6344\n",
      "Epoch 6/20\n",
      "107/107 [==============================] - 84s 786ms/step - loss: 0.6462 - accuracy: 0.6618 - val_loss: 0.7324 - val_accuracy: 0.6750\n",
      "Epoch 7/20\n",
      "107/107 [==============================] - 80s 745ms/step - loss: 0.6525 - accuracy: 0.6217 - val_loss: 0.6945 - val_accuracy: 0.6594\n",
      "Epoch 8/20\n",
      "107/107 [==============================] - 81s 758ms/step - loss: 0.6727 - accuracy: 0.4757 - val_loss: 0.6931 - val_accuracy: 0.5219\n",
      "Epoch 9/20\n",
      "107/107 [==============================] - 85s 796ms/step - loss: 0.6606 - accuracy: 0.5269 - val_loss: 0.6668 - val_accuracy: 0.6594\n",
      "Epoch 10/20\n",
      "107/107 [==============================] - 85s 790ms/step - loss: 0.6444 - accuracy: 0.6150 - val_loss: 0.6958 - val_accuracy: 0.7094\n",
      "Epoch 11/20\n",
      "107/107 [==============================] - 81s 755ms/step - loss: 0.6185 - accuracy: 0.6850 - val_loss: 0.7354 - val_accuracy: 0.5844\n",
      "Epoch 12/20\n",
      "107/107 [==============================] - 80s 747ms/step - loss: 0.6223 - accuracy: 0.6456 - val_loss: 0.6665 - val_accuracy: 0.5906\n",
      "Epoch 13/20\n",
      "107/107 [==============================] - 81s 761ms/step - loss: 0.6125 - accuracy: 0.6947 - val_loss: 0.6595 - val_accuracy: 0.6812\n",
      "Epoch 14/20\n",
      "107/107 [==============================] - 79s 741ms/step - loss: 0.5978 - accuracy: 0.7227 - val_loss: 0.6481 - val_accuracy: 0.6906\n",
      "Epoch 15/20\n",
      "107/107 [==============================] - 85s 790ms/step - loss: 0.6113 - accuracy: 0.7036 - val_loss: 0.6774 - val_accuracy: 0.6625\n",
      "Epoch 16/20\n",
      "107/107 [==============================] - 91s 851ms/step - loss: 0.6078 - accuracy: 0.6900 - val_loss: 0.6577 - val_accuracy: 0.6344\n",
      "Epoch 17/20\n",
      "107/107 [==============================] - 83s 777ms/step - loss: 0.6069 - accuracy: 0.6682 - val_loss: 0.6648 - val_accuracy: 0.6719\n",
      "Epoch 18/20\n",
      "107/107 [==============================] - 81s 759ms/step - loss: 0.5984 - accuracy: 0.7103 - val_loss: 0.6535 - val_accuracy: 0.6844\n",
      "Epoch 19/20\n",
      "107/107 [==============================] - 79s 742ms/step - loss: 0.5863 - accuracy: 0.7460 - val_loss: 0.6421 - val_accuracy: 0.6656\n",
      "Epoch 20/20\n",
      "107/107 [==============================] - 80s 744ms/step - loss: 0.5838 - accuracy: 0.7574 - val_loss: 0.6465 - val_accuracy: 0.6875\n"
     ]
    }
   ],
   "source": [
    "model = tf.keras.Sequential([\n",
    "    encoder,\n",
    "    tf.keras.layers.Embedding(\n",
    "        input_dim=len(encoder.get_vocabulary()),\n",
    "        output_dim=64,\n",
    "        mask_zero=True),\n",
    "    tf.keras.layers.Bidirectional(tf.keras.layers.LSTM(64)),\n",
    "    tf.keras.layers.Dense(64, activation='relu'),\n",
    "    tf.keras.layers.Dense(1, activation='sigmoid')\n",
    "])\n",
    "\n",
    "model.compile(loss=tf.keras.losses.BinaryCrossentropy(from_logits=True),\n",
    "              optimizer=tf.keras.optimizers.Adam(1e-4),\n",
    "              metrics=['accuracy'])\n",
    "\n",
    "history = model.fit(raw_train_ds, epochs=20,\n",
    "                    validation_data=raw_dev_ds, \n",
    "                    validation_steps=10)"
   ]
  },
  {
   "cell_type": "code",
   "execution_count": 26,
   "metadata": {},
   "outputs": [
    {
     "data": {
      "text/plain": [
       "array([[0.00308603]], dtype=float32)"
      ]
     },
     "execution_count": 26,
     "metadata": {},
     "output_type": "execute_result"
    }
   ],
   "source": [
    "model.predict(np.array([\"Sandkassespill er noe for seg selv, og det er en god grunn til at de er blitt så populære. De tillater utforskning og forlengede spilletider som smalere, mer lineære opplevelser bare ikke kan, og i univers hvor innlevelse er viktig er det ikke så rart at utviklere velger å tilby en sandkasse der spilleren får utfolde seg og bruke så mye tid som mulig. Sandkassespill kommer imidlertid gjerne med en hake; hovedfortellingen, som gjerne fungerer som en overordnet historie i motsetning til mindre sidefortellinger, får gjerne gjennomgå. Det jeg mener med dette er at sandkassespill gjerne oppfordrer til å gjøre andre ting enn det hovedfiguren og plottet gjerne insinuerer at man burde gjøre, nettopp fordi det er så mye å finne på og oppsøke utenom denne fortellingen. Kanskje må man samle mer erfaringspoeng for å kunne hamle opp med en ekstra sterk skurk, kanskje kreves det mer penger for å låse opp bedre våpen, og muligens er det enda kulere, korte sidefortellinger som sjarmerer mer enn hovedfortellingen gjør på samme tidspunkt.\"]))"
   ]
  },
  {
   "cell_type": "code",
   "execution_count": 29,
   "metadata": {},
   "outputs": [
    {
     "name": "stdout",
     "output_type": "stream",
     "text": [
      "INFO:tensorflow:Assets written to: lstm/assets\n"
     ]
    },
    {
     "name": "stderr",
     "output_type": "stream",
     "text": [
      "INFO:tensorflow:Assets written to: lstm/assets\n"
     ]
    }
   ],
   "source": [
    "model.save(\"lstm\")"
   ]
  },
  {
   "cell_type": "code",
   "execution_count": 32,
   "metadata": {},
   "outputs": [],
   "source": []
  },
  {
   "cell_type": "code",
   "execution_count": 57,
   "metadata": {},
   "outputs": [
    {
     "data": {
      "text/plain": [
       "(196, 232)"
      ]
     },
     "execution_count": 57,
     "metadata": {},
     "output_type": "execute_result"
    }
   ],
   "source": [
    "zeros = 0\n",
    "ones = 0\n",
    "for _, i in raw_test_ds.as_numpy_iterator():\n",
    "    zeros += (i == 0).sum()\n",
    "    ones += (i == 1).sum()\n",
    "zeros, ones"
   ]
  }
 ],
 "metadata": {
  "kernelspec": {
   "display_name": "Python 3",
   "language": "python",
   "name": "python3"
  },
  "language_info": {
   "codemirror_mode": {
    "name": "ipython",
    "version": 3
   },
   "file_extension": ".py",
   "mimetype": "text/x-python",
   "name": "python",
   "nbconvert_exporter": "python",
   "pygments_lexer": "ipython3",
   "version": "3.8.5"
  }
 },
 "nbformat": 4,
 "nbformat_minor": 4
}
